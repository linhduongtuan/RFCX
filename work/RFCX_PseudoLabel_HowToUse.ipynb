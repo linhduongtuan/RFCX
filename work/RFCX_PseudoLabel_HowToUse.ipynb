{
 "cells": [
  {
   "cell_type": "markdown",
   "metadata": {},
   "source": [
    "#### ライブラリの読み込み"
   ]
  },
  {
   "cell_type": "code",
   "execution_count": 1,
   "metadata": {},
   "outputs": [],
   "source": [
    "import pickle\n",
    "import numpy as np"
   ]
  },
  {
   "cell_type": "markdown",
   "metadata": {},
   "source": [
    "#### データの読み込み"
   ]
  },
  {
   "cell_type": "code",
   "execution_count": 2,
   "metadata": {},
   "outputs": [],
   "source": [
    "with open(\"../dataset/exp0153_resnet18_focal_mixup_pseudo0.5_thr0.5.pkl\", \"rb\") as f:\n",
    "    pseudo_labels = pickle.load(f)"
   ]
  },
  {
   "cell_type": "markdown",
   "metadata": {},
   "source": [
    "#### サンプルラベル\n",
    "気をつけてほしいのは末尾の `_posi`とか`_nega`は実際のpositive, negativeには関係ないこと  \n",
    "ラベルがtp_trainからきたか、fp_trainからきたかの区別  \n",
    "なのでかぶっているものもあるので注意(使うときによしなに統合する)"
   ]
  },
  {
   "cell_type": "code",
   "execution_count": 3,
   "metadata": {},
   "outputs": [],
   "source": [
    "sample_posi = \"0099c367b_posi\""
   ]
  },
  {
   "cell_type": "markdown",
   "metadata": {},
   "source": [
    "#### sample_posiを確認\n",
    "8 frame x 24 species_id"
   ]
  },
  {
   "cell_type": "code",
   "execution_count": 4,
   "metadata": {},
   "outputs": [
    {
     "name": "stdout",
     "output_type": "stream",
     "text": [
      "(8, 24)\n"
     ]
    }
   ],
   "source": [
    "labels = pseudo_labels[sample_posi]\n",
    "print(labels.shape)"
   ]
  },
  {
   "cell_type": "markdown",
   "metadata": {},
   "source": [
    "#### 8フレームについて\n",
    "[Theo Vielさんのデータ](https://www.kaggle.com/c/rfcx-species-audio-detection/discussion/198048)を使っている  \n",
    "画像データは3751x128ピクセルだが、これを512の窓で分割する  \n",
    "境目にデータがくることを想定して49ずつかぶせる  \n",
    "\n",
    "つまり各フレームは実際のサイズと以下のような対応となる\n",
    "\n",
    "|フレーム|ピクセル|時間(s)|\n",
    "|--|--|--|\n",
    "|0|0〜512|0〜8|\n",
    "|1|463〜975|7〜15|\n",
    "|2|926〜1438|14〜23|\n",
    "|3|1389〜1901|22〜30|\n",
    "|4|1852〜2364|29〜37|\n",
    "|5|2315〜2827|37〜45|\n",
    "|6|2778〜3290|44〜52|\n",
    "|7|3241〜3753|51〜60|"
   ]
  },
  {
   "cell_type": "markdown",
   "metadata": {},
   "source": [
    "#### ラベルの確認\n",
    "- 5-foldのモデルが3個以上、0.5以上と予測した場合にpositiveラベル`1`\n",
    "- 5-foldのモデルが3個以上、0.01以下と予測した場合にnegativeラベル`-1`\n",
    "- 上記以外は0"
   ]
  },
  {
   "cell_type": "code",
   "execution_count": 5,
   "metadata": {},
   "outputs": [
    {
     "data": {
      "text/plain": [
       "(array([0, 3, 4, 5, 6, 7]),)"
      ]
     },
     "execution_count": 5,
     "metadata": {},
     "output_type": "execute_result"
    }
   ],
   "source": [
    "species_id_17 = labels[:, 17]\n",
    "np.where(species_id_17==1)"
   ]
  },
  {
   "cell_type": "markdown",
   "metadata": {},
   "source": [
    "0〜8秒、22〜60秒の区間にspecies_idが17の声が出現"
   ]
  },
  {
   "cell_type": "code",
   "execution_count": 6,
   "metadata": {},
   "outputs": [
    {
     "data": {
      "text/plain": [
       "(array([3]),)"
      ]
     },
     "execution_count": 6,
     "metadata": {},
     "output_type": "execute_result"
    }
   ],
   "source": [
    "species_id_13 = labels[:, 13]\n",
    "np.where(species_id_13==-1)"
   ]
  },
  {
   "cell_type": "markdown",
   "metadata": {},
   "source": [
    "22〜30秒の区間にspecies_idが13の声は無い"
   ]
  },
  {
   "cell_type": "code",
   "execution_count": null,
   "metadata": {},
   "outputs": [],
   "source": []
  }
 ],
 "metadata": {
  "kernelspec": {
   "display_name": "Python 3",
   "language": "python",
   "name": "python3"
  },
  "language_info": {
   "codemirror_mode": {
    "name": "ipython",
    "version": 3
   },
   "file_extension": ".py",
   "mimetype": "text/x-python",
   "name": "python",
   "nbconvert_exporter": "python",
   "pygments_lexer": "ipython3",
   "version": "3.7.4"
  }
 },
 "nbformat": 4,
 "nbformat_minor": 2
}
