{
  "nbformat": 4,
  "nbformat_minor": 0,
  "metadata": {
    "colab": {
      "name": "RFCX_re-labeling_by_resnet18.ipynb",
      "private_outputs": true,
      "provenance": [],
      "collapsed_sections": [],
      "toc_visible": true
    },
    "kernelspec": {
      "name": "python3",
      "display_name": "Python 3"
    },
    "accelerator": "GPU"
  },
  "cells": [
    {
      "cell_type": "code",
      "metadata": {
        "id": "t3l_5_WXkHrd"
      },
      "source": [
        "!nvidia-smi"
      ],
      "execution_count": null,
      "outputs": []
    },
    {
      "cell_type": "code",
      "metadata": {
        "id": "ITzFStSplR82"
      },
      "source": [
        "from google.colab import drive\n",
        "drive.mount('/content/drive')"
      ],
      "execution_count": null,
      "outputs": []
    },
    {
      "cell_type": "code",
      "metadata": {
        "id": "MMoGy2fAk8Sa"
      },
      "source": [
        "%%time\n",
        "# 大体10分くらい\n",
        "\n",
        "!pip install -q kaggle\n",
        "!mkdir -p .kaggle\n",
        "!cp \"./drive/My Drive/Study/config/kaggle.json\" .kaggle/\n",
        "!chmod 600 .kaggle/kaggle.json\n",
        "!mv .kaggle /root\n",
        "\n",
        "!kaggle datasets download \"theoviel/rcfx-spectrograms-32-khz\"\n",
        "!unzip rcfx-spectrograms-32-khz.zip > /dev/null\n",
        "!rm -rf rcfx-spectrograms-32-khz.zip \n",
        "\n",
        "!pip install -U iterative-stratification albumentations wandb  > /dev/null\n",
        "!wandb login e0792bb688a0d18e359df7438c45da90f8794091\n",
        "\n",
        "!pip install timm\n",
        "!pip install imbalanced-learn"
      ],
      "execution_count": null,
      "outputs": []
    },
    {
      "cell_type": "code",
      "metadata": {
        "id": "3zAeTPFiliqi"
      },
      "source": [
        "import gc\n",
        "import os\n",
        "import tqdm\n",
        "import random\n",
        "import pickle\n",
        "\n",
        "from matplotlib import pyplot as plt\n",
        "from iterstrat.ml_stratifiers import MultilabelStratifiedKFold\n",
        "from datetime import datetime\n",
        "\n",
        "import pandas as pd\n",
        "import numpy as np\n",
        "from numpy.random import beta\n",
        "\n",
        "import torch\n",
        "from torchvision.models import resnet18, densenet121\n",
        "import torch.nn as nn\n",
        "from torch.optim import Adam, AdamW\n",
        "from torch.optim.lr_scheduler import CosineAnnealingLR, ReduceLROnPlateau, CosineAnnealingWarmRestarts\n",
        "from torchvision import transforms\n",
        "from torch.nn import functional as F\n",
        "\n",
        "import albumentations as A\n",
        "\n",
        "from sklearn.metrics import classification_report, roc_auc_score\n",
        "from imblearn.under_sampling import RandomUnderSampler\n",
        "import wandb\n",
        "import timm\n",
        "\n",
        "device = torch.device(\"cuda\")"
      ],
      "execution_count": null,
      "outputs": []
    },
    {
      "cell_type": "markdown",
      "metadata": {
        "id": "3cTIWwcG95ui"
      },
      "source": [
        "# Pseudo"
      ]
    },
    {
      "cell_type": "code",
      "metadata": {
        "id": "gYtx2eJpHvGw"
      },
      "source": [
        "EXP = \"exp0153_resnet18_focal_mixup_pseudo0.5\"\n",
        "BEST_MODEL = f\"./drive/MyDrive/Study/RFCX/output/{EXP}\"\n",
        "DATA_ROOT = \"./drive/MyDrive/Study/RFCX/input\"\n",
        "\n",
        "PSEUDO_THR_P = 0.5\n",
        "PSEUDO_THR_N = 0.01\n",
        "\n",
        "MODEL_NAME = \"resnet18\"\n",
        "N_LABEL = 24\n",
        "N_SPLIT_IMG = 8\n",
        "WINDOW = 512\n",
        "COVER = 49"
      ],
      "execution_count": null,
      "outputs": []
    },
    {
      "cell_type": "code",
      "metadata": {
        "id": "gBfllo03RYd_"
      },
      "source": [
        "def mono_to_color(\n",
        "    X: np.ndarray, mean=None, std=None,\n",
        "    norm_max=None, norm_min=None, eps=1e-6\n",
        "):\n",
        "    # Stack X as [X,X,X]\n",
        "    X = np.stack([X, X, X], axis=-1)\n",
        "\n",
        "    # Standardize\n",
        "    mean = mean or X.mean()\n",
        "    X = X - mean\n",
        "    std = std or X.std()\n",
        "    Xstd = X / (std + eps)\n",
        "    _min, _max = Xstd.min(), Xstd.max()\n",
        "    norm_max = norm_max or _max\n",
        "    norm_min = norm_min or _min\n",
        "    if (_max - _min) > eps:\n",
        "        # Normalize to [0, 255]\n",
        "        V = Xstd\n",
        "        V[V < norm_min] = norm_min\n",
        "        V[V > norm_max] = norm_max\n",
        "        V = 255 * (V - norm_min) / (norm_max - norm_min)\n",
        "        V = V.astype(np.uint8)\n",
        "    else:\n",
        "        # Just zero\n",
        "        V = np.zeros_like(Xstd, dtype=np.uint8)\n",
        "    return V\n",
        "\n",
        "def extract_seq_label(label, value):\n",
        "    seq_label = np.zeros((N_LABEL, 3751))\n",
        "    middle = np.ones(N_LABEL) * -1\n",
        "    for species_id, t_min, f_min, t_max, f_max in label:\n",
        "        h, t = int(3751*(t_min/60)), int(3751*(t_max/60))\n",
        "        m = (t + h)//2\n",
        "        middle[species_id] = m\n",
        "        seq_label[species_id, h:t] = value\n",
        "    return seq_label, middle.astype(int)\n",
        "\n",
        "class SpectrogramFromNpz(torch.utils.data.Dataset):\n",
        "    def __init__(self, fname, mode):\n",
        "        self.fname = fname\n",
        "        self.mode = mode\n",
        "        self.to_tensor = transforms.ToTensor()\n",
        "        self.norm = transforms.Normalize((0.485, 0.456, 0.406), (0.229, 0.224, 0.225))\n",
        "\n",
        "    def __len__(self):\n",
        "        return len(self.fname)\n",
        "\n",
        "    def __getitem__(self, idx):\n",
        "        fname = self.fname[idx]\n",
        "\n",
        "        # load image        \n",
        "        _fname = fname.replace(\"_posi\", \"\").replace(\"_nega\", \"\")\n",
        "        path = f\"./train/{_fname}.npy\"\n",
        "        mel = np.load(path)\n",
        "        \n",
        "        image = mono_to_color(mel)\n",
        "        image = self.to_tensor(image)\n",
        "        image = self.norm(image)\n",
        "\n",
        "        return image"
      ],
      "execution_count": null,
      "outputs": []
    },
    {
      "cell_type": "code",
      "metadata": {
        "id": "W_KUT6hVRyQ_"
      },
      "source": [
        "MODEL_HEADER_INFO = {\n",
        "    \"resnet18\": (-2, 512),\n",
        "    \"densenet121\": (-2, 1024),\n",
        "    \"efficientnet_b0\": (-5, 320),\n",
        "    \"resnest50d\": (-2, 2048),\n",
        "    \"mobilenetv2_100\": (-2, 1280),\n",
        "}\n",
        "\n",
        "def interpolate(x: torch.Tensor, ratio: int):\n",
        "    x = x.transpose(1, 2)\n",
        "    (batch_size, time_steps, classes_num) = x.shape\n",
        "    upsampled = x[:, :, None, :].repeat(1, 1, ratio, 1)\n",
        "    upsampled = upsampled.reshape(batch_size, time_steps * ratio, classes_num)\n",
        "    upsampled = upsampled.transpose(1, 2)\n",
        "    return upsampled\n",
        "\n",
        "class RFCXNet(nn.Module):\n",
        "    def __init__(self, model_name):\n",
        "        super(RFCXNet, self).__init__()\n",
        "        self.n_label = N_LABEL\n",
        "\n",
        "        base_model = timm.create_model(model_name, pretrained=True)\n",
        "        h_idx, n_dense = MODEL_HEADER_INFO[model_name]        \n",
        "\n",
        "        self.resnet_head = nn.Sequential(*list(base_model.children())[:h_idx])\n",
        "        \n",
        "        self.fc_a = nn.Conv1d(n_dense, self.n_label, 1, bias=False)\n",
        "        self.fc_b = nn.Conv1d(n_dense, self.n_label, 1, bias=False)\n",
        "\n",
        "    def forward(self, x, perm=None, gamma=None):  # input x: (batch, channel, Hz, time)\n",
        "        frames_num = x.shape[3]\n",
        "        x = x.transpose(3, 2)  # (batch, channel, time, Hz)\n",
        "\n",
        "        h = self.resnet_head(x)  # (batch, unit, time, Hz)\n",
        "\n",
        "        if perm is not None:\n",
        "            h = gamma * h + (1 - gamma) * h[perm]\n",
        "            \n",
        "        h = F.relu(h)\n",
        "        ti_pool = torch.mean(h, dim=3)  # (batch, unit, time)\n",
        "\n",
        "        xa = self.fc_a(ti_pool)  # (batch, n_class, time)\n",
        "        xb = self.fc_b(ti_pool)  # (batch, n_class, time)\n",
        "        xb = torch.softmax(xb, dim=2)\n",
        "\n",
        "        # time pool\n",
        "        clipwise_preds_att_ti = torch.sum(xa * xb, dim=2)\n",
        "        segmentwise_output_ti = interpolate(xa, 32)\n",
        "\n",
        "        return {\n",
        "            \"clipwise_preds_att_ti\": clipwise_preds_att_ti,\n",
        "            \"segmentwise_output_ti\": segmentwise_output_ti,\n",
        "        }"
      ],
      "execution_count": null,
      "outputs": []
    },
    {
      "cell_type": "code",
      "metadata": {
        "id": "2icPO0xURGck"
      },
      "source": [
        "train_fp = pd.read_csv(f\"{DATA_ROOT}/train_fp.csv\")\n",
        "train_tp = pd.read_csv(f\"{DATA_ROOT}/train_tp.csv\")\n",
        "\n",
        "tp_fnames = [f\"{i}_posi\" for i in train_tp[\"recording_id\"].unique()]\n",
        "fp_fnames = [f\"{i}_posi\" for i in train_fp[\"recording_id\"].unique()]\n",
        "all_fnames = tp_fnames+fp_fnames\n",
        "train_datasets = SpectrogramFromNpz(all_fnames, \"valid\")\n",
        "\n",
        "model = RFCXNet(MODEL_NAME)\n",
        "model.to(device)\n",
        "\n",
        "slide_img_pos = [[0, WINDOW]]\n",
        "for idx in range(1, N_SPLIT_IMG):\n",
        "    h, t = slide_img_pos[idx-1][0], slide_img_pos[idx-1][1]\n",
        "    h = t - COVER\n",
        "    t = h + WINDOW\n",
        "    slide_img_pos.append([h, t])\n",
        "\n",
        "print(slide_img_pos)"
      ],
      "execution_count": null,
      "outputs": []
    },
    {
      "cell_type": "code",
      "metadata": {
        "id": "duv3-RPNEI2B"
      },
      "source": [
        "pseudo_label_dict_lst = []\n",
        "for fold in range(5):\n",
        "    print(f\"### {fold} ###\")\n",
        "    model.load_state_dict(torch.load(f\"{BEST_MODEL}/rfcxnet_f{fold}_best_score_model.bin\"))\n",
        "    model.eval()\n",
        "\n",
        "    pseudo_label_dict = {}\n",
        "    each_fold_pred_clipwise = []\n",
        "    each_fold_pred_framewise = []\n",
        "    for fname, X in tqdm.tqdm_notebook(zip(all_fnames, train_datasets), total=len(train_datasets)):\n",
        "        labels = []\n",
        "        posi_labels, nega_labels = [], []\n",
        "        raw_seqs, raw_clips = [], []\n",
        "        for h, t in slide_img_pos:\n",
        "            with torch.no_grad():\n",
        "                outputs = model(X[:,:,h:t].unsqueeze(0).to(device))\n",
        "            pred = outputs[\"clipwise_preds_att_ti\"].sigmoid().cpu().numpy()[0]\n",
        "            \n",
        "            posi = (pred > PSEUDO_THR_P).astype(int)\n",
        "            nega = (pred < PSEUDO_THR_N).astype(int) * -1\n",
        "            posi_labels.append(posi)\n",
        "            nega_labels.append(nega)\n",
        "\n",
        "            raw_seqs.append(outputs[\"segmentwise_output_ti\"])\n",
        "            raw_clips.append(outputs[\"clipwise_preds_att_ti\"])\n",
        "\n",
        "        each_fold_pred_clipwise.append(torch.cat(raw_clips))\n",
        "        each_fold_pred_framewise.append(torch.cat(raw_seqs))\n",
        "\n",
        "        posi_labels = np.stack(posi_labels).astype(int)\n",
        "        nega_labels = np.stack(nega_labels).astype(int)\n",
        "        if posi_labels.sum() == 0 and nega_labels.sum() == 0:\n",
        "            continue\n",
        "        labels = np.stack([posi_labels, nega_labels])\n",
        "        pseudo_label_dict[fname] = labels\n",
        "    pseudo_label_dict_lst.append(pseudo_label_dict)\n",
        "\n",
        "    each_fold_pred_clipwise = torch.stack(each_fold_pred_clipwise).cpu().numpy()\n",
        "    each_fold_pred_framewise = torch.stack(each_fold_pred_framewise).cpu().numpy()\n",
        "    np.save(f\"./drive/MyDrive/Study/RFCX/2nd_stage/{EXP}_clipwise_fold_{fold}\", each_fold_pred_clipwise)\n",
        "    np.save(f\"./drive/MyDrive/Study/RFCX/2nd_stage/{EXP}_seqwise_fold_{fold}\", each_fold_pred_framewise)"
      ],
      "execution_count": null,
      "outputs": []
    },
    {
      "cell_type": "code",
      "metadata": {
        "id": "P8OKfJTJ8dMN"
      },
      "source": [
        "pseudo_label_dict_5fold = {}\n",
        "for fname in all_fnames:\n",
        "    labels = []\n",
        "    for pseudo_label_dict in pseudo_label_dict_lst:\n",
        "        try:\n",
        "            label = pseudo_label_dict[fname]\n",
        "        except KeyError:\n",
        "            label = np.zeros((2, 8, 24))\n",
        "        labels.append(label)\n",
        "\n",
        "    posi_label, nega_label = np.stack(labels).sum(0)\n",
        "    posi_label = (posi_label > 2).astype(int)\n",
        "    nega_label = (nega_label < -2).astype(int) * -1\n",
        "    new_label = posi_label + nega_label\n",
        "\n",
        "    if (new_label != 0).sum() == 0:\n",
        "        continue\n",
        "    pseudo_label_dict_5fold[fname] = new_label"
      ],
      "execution_count": null,
      "outputs": []
    },
    {
      "cell_type": "code",
      "metadata": {
        "id": "PF6Hp56Y98z0"
      },
      "source": [
        "lst = [(v==1).sum(0) > 0 for v in pseudo_label_dict_5fold.values()]\n",
        "pd.DataFrame(lst).sum(0).plot.bar()"
      ],
      "execution_count": null,
      "outputs": []
    },
    {
      "cell_type": "code",
      "metadata": {
        "id": "uxGpSnaA-DaK"
      },
      "source": [
        "with open(f\"./drive/MyDrive/Study/RFCX/2nd_stage/{EXP}_thr{PSEUDO_THR_P}.pkl\", \"wb\") as f:\n",
        "    pickle.dump(pseudo_label_dict_5fold, f)"
      ],
      "execution_count": null,
      "outputs": []
    },
    {
      "cell_type": "code",
      "metadata": {
        "id": "2tqkTOYWlVcF"
      },
      "source": [
        "!ls ./drive/MyDrive/Study/RFCX/2nd_stage/"
      ],
      "execution_count": null,
      "outputs": []
    },
    {
      "cell_type": "code",
      "metadata": {
        "id": "y8uAsn_ylWOv"
      },
      "source": [
        ""
      ],
      "execution_count": null,
      "outputs": []
    }
  ]
}